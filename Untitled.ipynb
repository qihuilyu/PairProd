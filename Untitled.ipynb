{
 "cells": [
  {
   "cell_type": "code",
   "execution_count": 33,
   "metadata": {},
   "outputs": [],
   "source": [
    "import numpy as np\n",
    "from scipy.interpolate import interp1d\n",
    "\n",
    "\n",
    "class G4Material():\n",
    "    def __init__(self, label='', density=0.0, matid=0):\n",
    "        self.label = label\n",
    "        self.density = density\n",
    "        self.matid = matid\n",
    "\n",
    "    def __repr__(self):\n",
    "        return '<Material: \"{!s}\", {:d}, {:f}>'.format(self.label, self.matid, self.density)\n",
    "\n",
    "    def get_material_def(self):\n",
    "        \"\"\"returns entry suitable for voxel description in geometry.text file (format: [dens, matid] )\"\"\"\n",
    "        return \"{:0.3f} {:d}\\n\".format(self.density, self.matid)\n",
    "\n",
    "mat_map = {\n",
    "    \"air\":              G4Material('Air',               density=0.00129,   matid=0),\n",
    "    \"lung_in\":          G4Material('Lungs (inhale)',    density=0.217,     matid=1),\n",
    "    \"lung_ex\":          G4Material('Lungs (exhale)',    density=0.508,     matid=2),\n",
    "    \"adipose\":          G4Material('Adipose',           density=0.967,     matid=3),\n",
    "    \"breast\":           G4Material('Breast',            density=0.99,      matid=4),\n",
    "    \"water\":            G4Material('Water',             density=1.0,       matid=5),\n",
    "    \"muscle\":           G4Material('Muscle',            density=1.061,     matid=6),\n",
    "    \"liver\":            G4Material('Liver',             density=1.071,     matid=7),\n",
    "    \"bone_trab\":        G4Material('Bone (trabecular)', density=1.159,     matid=8),\n",
    "    \"bone_comp\":        G4Material('Bone (compact)',    density=1.575,     matid=9),\n",
    "    \"Io05\":             G4Material('Io05',              density=1.0415,    matid=10),\n",
    "    \"Ba05\":             G4Material('Ba05',              density=1.0405,    matid=11),\n",
    "    \"Gd05\":             G4Material('Gd05',              density=1.0457,    matid=12),\n",
    "    \"Yb05\":             G4Material('Yb05',              density=1.0447,    matid=13),\n",
    "    \"Ta05\":             G4Material('Ta05',              density=1.0493,    matid=14),\n",
    "    \"Au05\":             G4Material('Au05',              density=1.0498,    matid=15),\n",
    "    \"Bi05\":             G4Material('Bi05',              density=1.0470,    matid=16),  \n",
    "    \"Ca_50mgpml\":       G4Material('Ca_50mgpml',        density=1.0177,    matid=17),\n",
    "    \"Ca_150mgpml\":      G4Material('Ca_150mgpml',       density=1.0532,    matid=18),\n",
    "    \"Ca_300mgpml\":      G4Material('Ca_300mgpml',       density=1.1065,    matid=19),\n",
    "    \"Io_5mgpml\":        G4Material('Io_5mgpml',         density=1.0040,    matid=20),\n",
    "    \"Io_10mgpml\":       G4Material('Io_10mgpml',        density=1.0080,    matid=21),\n",
    "    \"Io_20mgpml\":       G4Material('Io_20mgpml',        density=1.0177,    matid=22), \n",
    "    \"Io_50mgpml\":       G4Material('Io_50mgpml',        density=1.0399,    matid=23), \n",
    "}\n",
    "\n",
    "lut_ct2dens = [\n",
    "    (-5000.0, 0.0),\n",
    "    (-1000.0, 0.01),\n",
    "    (-400,    0.602),\n",
    "    (-150,    0.924),\n",
    "    (100,     1.075),\n",
    "    (300,     1.145),\n",
    "    (2000,    1.856),\n",
    "    (4927,    3.379),\n",
    "    (66000,   7.8),\n",
    "]\n",
    "f_ct2dens = None\n",
    "\n",
    "lut_dens2mat = [\n",
    "    (0.0,   mat_map[\"air\"]      ),\n",
    "    (0.207, mat_map[\"lung_in\"]  ),\n",
    "    (0.481, mat_map[\"lung_ex\"]  ),\n",
    "    (0.919, mat_map[\"adipose\"]  ),\n",
    "    (0.979, mat_map[\"breast\"]   ),\n",
    "    (1.004, mat_map[\"water\"]    ),\n",
    "    (1.109, mat_map[\"muscle\"]   ),\n",
    "    (1.113, mat_map[\"liver\"]    ),\n",
    "    (1.496, mat_map[\"bone_trab\"]),\n",
    "    (1.654, mat_map[\"bone_comp\"]),\n",
    "    (6.0,   mat_map[\"Io05\"]),\n",
    "    (6.1,   mat_map[\"Ba05\"]),\n",
    "    (6.2,   mat_map[\"Gd05\"]),\n",
    "    (6.3,   mat_map[\"Yb05\"]),\n",
    "    (6.4,   mat_map[\"Ta05\"]),\n",
    "    (6.5,   mat_map[\"Au05\"]),\n",
    "    (6.6,   mat_map[\"Bi05\"]),\n",
    "    (6.7,   mat_map[\"Ca_50mgpml\"]),\n",
    "    (6.8,   mat_map[\"Ca_150mgpml\"]),\n",
    "    (6.9,   mat_map[\"Ca_300mgpml\"]),\n",
    "    (7.0,   mat_map[\"Io_5mgpml\"]),\n",
    "    (7.1,   mat_map[\"Io_10mgpml\"]),\n",
    "    (7.2,   mat_map[\"Io_20mgpml\"]),   \n",
    "    (7.3,   mat_map[\"Io_50mgpml\"]),\n",
    "]\n",
    "f_dens2matindex = None\n",
    "\n",
    "\n",
    "\n"
   ]
  },
  {
   "cell_type": "code",
   "execution_count": 34,
   "metadata": {},
   "outputs": [],
   "source": [
    "\n",
    "def init_lut_interpolators():\n",
    "    global f_ct2dens, f_dens2matindex\n",
    "    if f_ct2dens is None:\n",
    "        lut_ct, lut_dens = zip(*lut_ct2dens)\n",
    "        f_ct2dens = interp1d(lut_ct, lut_dens, kind='linear', bounds_error=False, fill_value=(np.min(lut_dens), np.max(lut_dens)))\n",
    "\n",
    "    if f_dens2matindex is None:\n",
    "        lut_dens, mat_list = zip(*lut_dens2mat)\n",
    "        f_dens2matindex = interp1d(lut_dens, range(len(mat_list)), kind='previous', bounds_error=False, fill_value=(0, len(mat_list)-1))\n",
    "\n"
   ]
  },
  {
   "cell_type": "code",
   "execution_count": 35,
   "metadata": {},
   "outputs": [],
   "source": [
    "\n",
    "def lookup_materials(ctnums=None, densities=None, bulk_density=True):\n",
    "    \"\"\"convert either an array of ctnums or an array of densities to an array (of type=np.array(dtype=object)) of material specs\n",
    "    Promises to be much faster than the per-element version (ct2mat)\n",
    "\n",
    "    UNTESTED\n",
    "    \"\"\"\n",
    "    assert any(param is not None for param in (ctnums, densities))\n",
    "    init_lut_interpolators()\n",
    "    if ctnums is not None:\n",
    "        densities = f_ct2dens(ctnums)\n",
    "    print(densities.max())\n",
    "\n",
    "    materials = f_dens2mat(densities)\n",
    "    return materials\n",
    "\n",
    "def f_dens2mat(densities):\n",
    "    \"\"\"use cached interpolator to convert densities array to object array of corresponding materials objects\"\"\"\n",
    "    init_lut_interpolators()\n",
    "    matindices = f_dens2matindex(densities).astype(int)\n",
    "    _, mat_list = zip(*lut_dens2mat)\n",
    "    material_choices = np.array(mat_list, dtype=object)\n",
    "    materials = material_choices[matindices]\n",
    "    return materials\n",
    "\n"
   ]
  },
  {
   "cell_type": "code",
   "execution_count": 36,
   "metadata": {},
   "outputs": [
    {
     "name": "stdout",
     "output_type": "stream",
     "text": [
      "7.300010692122541\n"
     ]
    }
   ],
   "source": [
    "\n",
    "ctnums = [-1024,0,1518,50805,52186,53568,54949,56330,57712,59093]\n",
    "materials = lookup_materials(ctnums)\n"
   ]
  },
  {
   "cell_type": "code",
   "execution_count": 37,
   "metadata": {},
   "outputs": [
    {
     "name": "stdout",
     "output_type": "stream",
     "text": [
      "[<Material: \"Air\", 0, 0.001290> <Material: \"Water\", 5, 1.000000>\n",
      " <Material: \"Bone (compact)\", 9, 1.575000>\n",
      " <Material: \"Ca_50mgpml\", 17, 1.017700>\n",
      " <Material: \"Ca_150mgpml\", 18, 1.053200>\n",
      " <Material: \"Ca_300mgpml\", 19, 1.106500>\n",
      " <Material: \"Io_5mgpml\", 20, 1.004000>\n",
      " <Material: \"Io_10mgpml\", 21, 1.008000>\n",
      " <Material: \"Io_20mgpml\", 22, 1.017700>\n",
      " <Material: \"Io_50mgpml\", 23, 1.039900>]\n"
     ]
    }
   ],
   "source": [
    "print(materials)\n"
   ]
  },
  {
   "cell_type": "code",
   "execution_count": null,
   "metadata": {},
   "outputs": [],
   "source": []
  }
 ],
 "metadata": {
  "kernelspec": {
   "display_name": "Python 3",
   "language": "python",
   "name": "python3"
  },
  "language_info": {
   "codemirror_mode": {
    "name": "ipython",
    "version": 3
   },
   "file_extension": ".py",
   "mimetype": "text/x-python",
   "name": "python",
   "nbconvert_exporter": "python",
   "pygments_lexer": "ipython3",
   "version": "3.8.3"
  }
 },
 "nbformat": 4,
 "nbformat_minor": 4
}
